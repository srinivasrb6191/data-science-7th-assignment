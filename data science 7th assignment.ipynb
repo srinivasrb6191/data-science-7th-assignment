{
 "cells": [
  {
   "cell_type": "markdown",
   "id": "a8f20c59",
   "metadata": {},
   "source": [
    "#### 1. Create two int type variables, apply addition, subtraction, division and multiplications and store the results in variables. Then print the data in the following format by calling the variables:\n",
    "First variable is __ & second variable is __.\n",
    "\n",
    "Addition: __ + __ = __\n",
    "\n",
    "Subtraction: __ - __ = __\n",
    "\n",
    "Multiplication: __ * __ = __\n",
    "\n",
    "Division: __ / __ = __"
   ]
  },
  {
   "cell_type": "code",
   "execution_count": 2,
   "id": "42bd2edb",
   "metadata": {},
   "outputs": [
    {
     "name": "stdout",
     "output_type": "stream",
     "text": [
      "First variable is 20 & second variable is 10\n",
      "Adition: 20 + 10 = 30\n",
      "Subtraction: 20 - 10 = 10\n",
      "Multiplication: 20 * 10 = 200\n",
      "Division: 20 / 10 = 2.0\n"
     ]
    }
   ],
   "source": [
    "#variables\n",
    "num1 = 20\n",
    "num2 = 10\n",
    "\n",
    "#calculations\n",
    "add = num1 + num2\n",
    "sub = num1 - num2\n",
    "multi = num1 * num2\n",
    "div = num1 / num2\n",
    "\n",
    "#printing outputs\n",
    "print(\"First variable is\",num1,\"& second variable is\",num2)\n",
    "print(\"Adition:\",num1,\"+\",num2,\"=\",add)\n",
    "print(\"Subtraction:\",num1,\"-\",num2,\"=\",sub)\n",
    "print(\"Multiplication:\",num1,\"*\",num2,\"=\",multi)\n",
    "print(\"Division:\",num1,\"/\",num2,\"=\",div)"
   ]
  },
  {
   "cell_type": "markdown",
   "id": "9e00808d",
   "metadata": {},
   "source": [
    "###### 2. What is the difference between the following operators:\n",
    "(i) '/' & '//'\n",
    "(ii) '**' & '^'\n",
    "\n",
    "Ans: '/' is the division operator in Python and performs regular division, resulting in a float value and '//' returns the largest integer value less than or equal to the quotient of the division. It discards the decimal part and returns an integer."
   ]
  },
  {
   "cell_type": "code",
   "execution_count": 3,
   "id": "253377a2",
   "metadata": {},
   "outputs": [
    {
     "name": "stdout",
     "output_type": "stream",
     "text": [
      "2.5\n",
      "2\n"
     ]
    }
   ],
   "source": [
    "#/\n",
    "result1 = 5 / 2\n",
    "print(result1)\n",
    "#//\n",
    "result2 = 5 // 2\n",
    "print(result2)"
   ]
  },
  {
   "cell_type": "markdown",
   "id": "29637129",
   "metadata": {},
   "source": [
    "###### he '**' operator is used for exponentiation in Python. It raises the left operand to the power of the right operand. '^' it is the bitwise XOR operator, which performs the XOR operation between the bits of two operands."
   ]
  },
  {
   "cell_type": "code",
   "execution_count": 4,
   "id": "62d69c7c",
   "metadata": {},
   "outputs": [
    {
     "name": "stdout",
     "output_type": "stream",
     "text": [
      "8\n",
      "1\n"
     ]
    }
   ],
   "source": [
    "exponentiation = 2 ** 3\n",
    "print(exponentiation)\n",
    "\n",
    "bitwise_xor = 2 ^ 3\n",
    "print(bitwise_xor)"
   ]
  },
  {
   "cell_type": "markdown",
   "id": "91f6df77",
   "metadata": {},
   "source": [
    "###### 3. List the logical operators.\n",
    "\n",
    "Ans: The logical operators in Python are used to perform logical operations on boolean values (True or False). Here are the logical operators in Python:"
   ]
  },
  {
   "cell_type": "code",
   "execution_count": 6,
   "id": "058e8fb4",
   "metadata": {},
   "outputs": [
    {
     "name": "stdout",
     "output_type": "stream",
     "text": [
      "True\n",
      "False\n",
      "False\n"
     ]
    }
   ],
   "source": [
    "#AND operator\n",
    "print(True and True)\n",
    "print(True and False)\n",
    "print(False and False)"
   ]
  },
  {
   "cell_type": "code",
   "execution_count": 7,
   "id": "daf06956",
   "metadata": {},
   "outputs": [
    {
     "name": "stdout",
     "output_type": "stream",
     "text": [
      "True\n",
      "True\n",
      "False\n"
     ]
    }
   ],
   "source": [
    "# OR operator\n",
    "print(True or True)\n",
    "print(True or False)\n",
    "print(False or False)\n"
   ]
  },
  {
   "cell_type": "code",
   "execution_count": 8,
   "id": "18b81e12",
   "metadata": {},
   "outputs": [
    {
     "name": "stdout",
     "output_type": "stream",
     "text": [
      "False\n",
      "True\n"
     ]
    }
   ],
   "source": [
    "# NOT operator\n",
    "print(not True)\n",
    "print(not False)"
   ]
  },
  {
   "cell_type": "markdown",
   "id": "301c63ae",
   "metadata": {},
   "source": [
    "###### 4. Explain right shift operator and left shift operator with examples.\n",
    "\n",
    "Ans: In Python, the right shift (>>) and left shift (<<) operators are used for bitwise shifting of binary representations of numbers."
   ]
  },
  {
   "cell_type": "code",
   "execution_count": 9,
   "id": "3d4dbe69",
   "metadata": {},
   "outputs": [
    {
     "name": "stdout",
     "output_type": "stream",
     "text": [
      "3\n"
     ]
    }
   ],
   "source": [
    "# Right shift operator\n",
    "num = 12  # Binary representation: 1100\n",
    "shifted_num = num >> 2\n",
    "print(shifted_num)  \n",
    "\n",
    "# Explanation:\n",
    "# Binary representation of 12: 1100\n",
    "# After shifting 2 positions to the right: 0011\n",
    "# Decimal representation of 0011: 3"
   ]
  },
  {
   "cell_type": "code",
   "execution_count": 10,
   "id": "c448e162",
   "metadata": {},
   "outputs": [
    {
     "name": "stdout",
     "output_type": "stream",
     "text": [
      "12\n"
     ]
    }
   ],
   "source": [
    "# Left shift operator\n",
    "num = 3  # Binary representation: 0011\n",
    "shifted_num = num << 2\n",
    "print(shifted_num)  # Output: 12\n",
    "\n",
    "# Explanation:\n",
    "# Binary representation of 3: 0011\n",
    "# After shifting 2 positions to the left: 1100\n",
    "# Decimal representation of 1100: 12"
   ]
  },
  {
   "cell_type": "markdown",
   "id": "a2c71b5e",
   "metadata": {},
   "source": [
    "#### Create a list containing int type data of length 15. Then write a code to check if 10 is present in the list or not."
   ]
  },
  {
   "cell_type": "code",
   "execution_count": 11,
   "id": "25a14440",
   "metadata": {},
   "outputs": [
    {
     "name": "stdout",
     "output_type": "stream",
     "text": [
      "10 is present in the list\n"
     ]
    }
   ],
   "source": [
    "list = [1,2,3,4,5,6,7,8,9,10,11,12,13,14,15]\n",
    "\n",
    "if 10 in list:\n",
    "    print(\"10 is present in the list\")\n",
    "else:\n",
    "    print(\"10 is not present in the list\")"
   ]
  },
  {
   "cell_type": "code",
   "execution_count": null,
   "id": "ded8c6b5",
   "metadata": {},
   "outputs": [],
   "source": []
  }
 ],
 "metadata": {
  "kernelspec": {
   "display_name": "Python 3 (ipykernel)",
   "language": "python",
   "name": "python3"
  },
  "language_info": {
   "codemirror_mode": {
    "name": "ipython",
    "version": 3
   },
   "file_extension": ".py",
   "mimetype": "text/x-python",
   "name": "python",
   "nbconvert_exporter": "python",
   "pygments_lexer": "ipython3",
   "version": "3.10.9"
  }
 },
 "nbformat": 4,
 "nbformat_minor": 5
}
